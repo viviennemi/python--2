{
 "cells": [
  {
   "cell_type": "code",
   "execution_count": 2,
   "metadata": {},
   "outputs": [
    {
     "data": {
      "text/plain": [
       "[[72, 98, 73, 70, 98],\n",
       " [69, 71, 82, 90, 86],\n",
       " [63, 93, 91, 74, 76],\n",
       " [65, 95, 82, 67, 71],\n",
       " [95, 91, 63, 66, 97],\n",
       " [64, 91, 71, 64, 61],\n",
       " [90, 94, 63, 72, 63],\n",
       " [75, 98, 89, 95, 79],\n",
       " [81, 91, 82, 99, 99],\n",
       " [95, 67, 71, 63, 63],\n",
       " [95, 64, 82, 74, 78],\n",
       " [62, 85, 67, 100, 95],\n",
       " [69, 67, 89, 92, 68],\n",
       " [98, 80, 67, 86, 100],\n",
       " [92, 88, 78, 79, 72],\n",
       " [77, 84, 91, 60, 68],\n",
       " [67, 73, 66, 95, 61],\n",
       " [100, 82, 65, 67, 61],\n",
       " [64, 96, 67, 61, 75],\n",
       " [80, 64, 84, 60, 80],\n",
       " [76, 98, 100, 78, 87],\n",
       " [100, 78, 78, 62, 74],\n",
       " [87, 60, 100, 72, 93],\n",
       " [83, 71, 80, 60, 79],\n",
       " [74, 62, 65, 100, 83],\n",
       " [74, 84, 83, 98, 84],\n",
       " [80, 73, 81, 89, 84],\n",
       " [89, 79, 84, 71, 81],\n",
       " [100, 95, 87, 84, 96],\n",
       " [78, 80, 89, 74, 73],\n",
       " [75, 71, 72, 100, 92],\n",
       " [72, 84, 92, 91, 100],\n",
       " [74, 89, 77, 62, 72],\n",
       " [82, 95, 77, 82, 80],\n",
       " [80, 70, 65, 91, 76],\n",
       " [87, 62, 60, 78, 96],\n",
       " [79, 85, 76, 100, 67],\n",
       " [61, 94, 99, 80, 87],\n",
       " [82, 99, 93, 77, 73],\n",
       " [62, 63, 62, 73, 80],\n",
       " [96, 62, 89, 70, 78],\n",
       " [64, 63, 75, 75, 98],\n",
       " [69, 100, 96, 99, 93],\n",
       " [88, 63, 83, 77, 97],\n",
       " [80, 79, 91, 69, 65],\n",
       " [86, 73, 62, 79, 92],\n",
       " [62, 70, 67, 82, 76],\n",
       " [97, 63, 89, 72, 91],\n",
       " [77, 75, 97, 80, 82],\n",
       " [80, 78, 96, 84, 68]]"
      ]
     },
     "execution_count": 2,
     "metadata": {},
     "output_type": "execute_result"
    }
   ],
   "source": [
    "import random\n",
    "students = []\n",
    "for _ in range(50):\n",
    "    stu = list()\n",
    "    for _ in range(5):\n",
    "        stu.append(random.randint(60,100))\n",
    "    students.append(stu)\n",
    "students"
   ]
  },
  {
   "cell_type": "code",
   "execution_count": 4,
   "metadata": {},
   "outputs": [],
   "source": [
    "import csv\n",
    "csv_write_file = open('students.csv',newline='',mode='w',)\n",
    "csv_writer = csv.writer(csv_write_file)\n",
    "csv_writer.writerow(['國文','英文','數學','地理','歷史'])\n",
    "csv_writer.writerows(students)\n",
    "csv_write_file.close()"
   ]
  }
 ],
 "metadata": {
  "kernelspec": {
   "display_name": "Python 3",
   "language": "python",
   "name": "python3"
  },
  "language_info": {
   "codemirror_mode": {
    "name": "ipython",
    "version": 3
   },
   "file_extension": ".py",
   "mimetype": "text/x-python",
   "name": "python",
   "nbconvert_exporter": "python",
   "pygments_lexer": "ipython3",
   "version": "3.10.8"
  },
  "orig_nbformat": 4
 },
 "nbformat": 4,
 "nbformat_minor": 2
}
