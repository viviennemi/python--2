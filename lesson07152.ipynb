{
 "cells": [
  {
   "cell_type": "code",
   "execution_count": 5,
   "metadata": {},
   "outputs": [
    {
     "data": {
      "text/plain": [
       "[[100, 72, 85, 96, 91],\n",
       " [94, 62, 95, 86, 65],\n",
       " [75, 76, 71, 70, 83],\n",
       " [63, 82, 60, 78, 76],\n",
       " [80, 86, 77, 97, 83],\n",
       " [61, 64, 75, 96, 75],\n",
       " [90, 86, 76, 65, 73],\n",
       " [75, 98, 80, 71, 72],\n",
       " [97, 67, 62, 72, 85],\n",
       " [96, 65, 90, 92, 99]]"
      ]
     },
     "execution_count": 5,
     "metadata": {},
     "output_type": "execute_result"
    }
   ],
   "source": [
    "import random\n",
    "students = []\n",
    "for _ in range(10):\n",
    "    stu = list()\n",
    "    for _ in range(5):\n",
    "        stu.append(random.randint(60,100))\n",
    "    students.append(stu)\n",
    "students"
   ]
  },
  {
   "cell_type": "code",
   "execution_count": 7,
   "metadata": {},
   "outputs": [],
   "source": [
    "import csv\n",
    "csv_write_file = open('students.csv',newline='',mode='w',encoding='utf-8')\n",
    "csv_writer = csv.writer(csv_write_file)\n",
    "csv_writer.writerow(['國文','英文','數學','地理','歷史'])\n",
    "csv_writer.writerows(students)\n",
    "csv_write_file.close()"
   ]
  },
  {
   "cell_type": "code",
   "execution_count": 10,
   "metadata": {},
   "outputs": [],
   "source": [
    "#open是一個指令要給一個存放變數的地方(有open結尾就要有.close)\n",
    "#存放變數的方法\n",
    "#writerow.writerows是延伸功能\n",
    "#下載.csv檔在檔案旁邊滑鼠右鍵下載即可\n",
    "import csv\n",
    "name = open('TTstu.csv',newline='',mode='w',encoding='utf-8')\n",
    "A = csv.writer(name)\n",
    "A.writerow(['國文','英文','數學','地理','歷史'])\n",
    "A.writerows(students)\n",
    "name.close()"
   ]
  }
 ],
 "metadata": {
  "kernelspec": {
   "display_name": "Python 3",
   "language": "python",
   "name": "python3"
  },
  "language_info": {
   "codemirror_mode": {
    "name": "ipython",
    "version": 3
   },
   "file_extension": ".py",
   "mimetype": "text/x-python",
   "name": "python",
   "nbconvert_exporter": "python",
   "pygments_lexer": "ipython3",
   "version": "3.10.8"
  },
  "orig_nbformat": 4
 },
 "nbformat": 4,
 "nbformat_minor": 2
}
