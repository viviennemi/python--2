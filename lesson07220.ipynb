{
 "cells": [
  {
   "cell_type": "code",
   "execution_count": null,
   "metadata": {},
   "outputs": [],
   "source": [
    "#ipynb可以單獨執行一個區塊\n",
    "#執行抓一般沒有加密的網址\n",
    "from urllib import request\n",
    "from urllib import parse\n",
    "\n",
    "url = \n",
    "encode_url = parse.quote(url)\n",
    "request.urlopen(encode_url)"
   ]
  },
  {
   "cell_type": "code",
   "execution_count": null,
   "metadata": {},
   "outputs": [],
   "source": [
    "from urllib.request import urlopen\n",
    "from urllib.parse import quote\n",
    "url = \n",
    "encode_url = parse.quote(url)\n",
    "request.urlopen(encode_url)"
   ]
  },
  {
   "cell_type": "code",
   "execution_count": null,
   "metadata": {},
   "outputs": [],
   "source": [
    "import urllib\n",
    "url = \n",
    "\n",
    "encode_url = urllib.parse.quote(url)\n",
    "urllib.request.urlopen(encode_url)"
   ]
  }
 ],
 "metadata": {
  "kernelspec": {
   "display_name": "Python 3",
   "language": "python",
   "name": "python3"
  },
  "language_info": {
   "name": "python",
   "version": "3.10.8"
  },
  "orig_nbformat": 4
 },
 "nbformat": 4,
 "nbformat_minor": 2
}
