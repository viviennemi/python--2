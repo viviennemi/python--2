{
 "cells": [
  {
   "cell_type": "code",
   "execution_count": 25,
   "metadata": {},
   "outputs": [
    {
     "data": {
      "text/plain": [
       "學生1     398\n",
       "學生2     337\n",
       "學生3     397\n",
       "學生4     337\n",
       "學生5     336\n",
       "學生6     316\n",
       "學生7     394\n",
       "學生8     326\n",
       "學生9     398\n",
       "學生10    346\n",
       "dtype: int64"
      ]
     },
     "metadata": {},
     "output_type": "display_data"
    },
    {
     "data": {
      "text/plain": [
       "array([298, 237, 297, 237, 236, 216, 294, 226, 298, 246])"
      ]
     },
     "metadata": {},
     "output_type": "display_data"
    },
    {
     "data": {
      "text/plain": [
       "Index(['學生1', '學生2', '學生3', '學生4', '學生5', '學生6', '學生7', '學生8', '學生9', '學生10'], dtype='object')"
      ]
     },
     "metadata": {},
     "output_type": "display_data"
    }
   ],
   "source": [
    "import numpy as np\n",
    "import pandas as pd\n",
    "\n",
    "n1 = np.random.randint(200,300,size=(10,))\n",
    "s1 = pd.Series(data=n1,index=[f\"學生{i+1}\" for i in range(10)])\n",
    "display(s1+100)\n",
    "display(s1.values)\n",
    "display(s1.index)\n"
   ]
  },
  {
   "cell_type": "code",
   "execution_count": 26,
   "metadata": {},
   "outputs": [
    {
     "name": "stdout",
     "output_type": "stream",
     "text": [
      "陳文友、王維堅、趙明倫、蔡孟勳、潘俊榮、陳芳祥、趙美華、張苑裕、蔡淑財、楊威紹、吳雅雯、賴家銘、連侑汝、林竣富、王亮蓉、曾貞儀、莊惠琦、李于婷、蔡玉漢、吳嘉慧、張玉華、陳興甫、蔡意瑄、許嬌興、張奎妮、黃玉亨、謝志鴻、黃俊男、侯智偉、聶昕萱、林紹桓、鄭智鈞、鄭凱為、陳奕昌、郭家銘、儲羽東、黃柏玄、陳宏士、張文群、傅瑜群、邱銘琇、吳岱雲、林文甫、吳香凱、吳雅芳、林瑞紫、張少季、王志財、方巧倫、傅大胤、張書泉、張玉文、呂育菁、呂佳政、李憶歡、何志傑、鄭婷婷、謝奕君、賴新綺、陳愛伶、張婉菁、梁淑美、李俊賢、黃純茜、林建宇、王婉菁、楊佳萱、謝以仁、李靜如、游得毓、蘇婷平、顧雯強、桂宛玲、吳原皓、張仕翰、劉佳琦、周禮琪、陳欣卿、陳俊杰、陳建勳、陳淑皓、楊乃琳、黃國依、黃瑜洋、高家瑋、林韻如、高添甫、陳家偉、艾琳柔、謝雅婷、鄭慧方、賴嘉文、陳彥安、陳為木、陸玄隆、林倩謙、王婉妹、李柏廷、曾孟儒、陳志善\n"
     ]
    }
   ],
   "source": [
    "import requests\n",
    "import pandas as pd\n",
    "\n",
    "# 設定time為獲取中文姓名100筆的倍數。time=3，就是300筆的意思。\n",
    "times = 1\n",
    "cnames = []\n",
    "for x in range(times):\n",
    "    url = 'http://www.richyli.com/name/index.asp'\n",
    "    r = requests.get(url)\n",
    "    r.encoding = 'big5'\n",
    "    \n",
    "    # 將網頁中的資料以分行的方式存成文字檔\n",
    "    result = r.text.splitlines()\n",
    "    \n",
    "    # 114是中文姓名開始的列，找到最後一個「、」，設定成為字串的切片位置。\n",
    "    char_index = result[114].rfind(\"、\")\n",
    "    temp = result[114][:char_index]\n",
    "    \n",
    "    # 將temp的100筆姓名新增到cnames中\n",
    "    cnames.append(temp)\n",
    "\n",
    "# 將每100筆姓名的list加一個「、」，再組合成字串存到my_names中\n",
    "my_names = \"、\".join(str(x) for x in cnames)\n",
    "print(my_names)"
   ]
  },
  {
   "cell_type": "code",
   "execution_count": 27,
   "metadata": {},
   "outputs": [
    {
     "name": "stdout",
     "output_type": "stream",
     "text": [
      "<class 'str'>\n"
     ]
    },
    {
     "data": {
      "text/plain": [
       "['楊美啟', '馮筠玄', '林書豪', '賴倫元', '陳秀傑']"
      ]
     },
     "execution_count": 27,
     "metadata": {},
     "output_type": "execute_result"
    }
   ],
   "source": [
    "#把別人的寫好的程式變成自己的function\n",
    "import requests\n",
    "def getNames(num):\n",
    "    times = 1\n",
    "    cnames = []\n",
    "    for x in range(times):\n",
    "        url = 'http://www.richyli.com/name/index.asp'\n",
    "        r = requests.get(url)\n",
    "        r.encoding = 'big5'\n",
    "        \n",
    "        # 將網頁中的資料以分行的方式存成文字檔\n",
    "        result = r.text.splitlines()\n",
    "        \n",
    "        # 114是中文姓名開始的列，找到最後一個「、」，設定成為字串的切片位置。\n",
    "        char_index = result[114].rfind(\"、\")\n",
    "        temp = result[114][:char_index]\n",
    "        \n",
    "        # 將temp的100筆姓名新增到cnames中\n",
    "        cnames.append(temp)\n",
    "    print(type(cnames[0]))\n",
    "    names = cnames[0].split('、')\n",
    "    return names[:num]\n",
    "\n",
    "#改寫成抓取一次變成100筆資料或是更多筆資料儲存\n",
    "# names = getNames(100)\n",
    "getNames(5)  "
   ]
  },
  {
   "cell_type": "code",
   "execution_count": 28,
   "metadata": {},
   "outputs": [
    {
     "name": "stdout",
     "output_type": "stream",
     "text": [
      "<class 'str'>\n"
     ]
    },
    {
     "data": {
      "text/html": [
       "<div>\n",
       "<style scoped>\n",
       "    .dataframe tbody tr th:only-of-type {\n",
       "        vertical-align: middle;\n",
       "    }\n",
       "\n",
       "    .dataframe tbody tr th {\n",
       "        vertical-align: top;\n",
       "    }\n",
       "\n",
       "    .dataframe thead th {\n",
       "        text-align: right;\n",
       "    }\n",
       "</style>\n",
       "<table border=\"1\" class=\"dataframe\">\n",
       "  <thead>\n",
       "    <tr style=\"text-align: right;\">\n",
       "      <th></th>\n",
       "      <th>國文</th>\n",
       "      <th>英文</th>\n",
       "      <th>數學</th>\n",
       "      <th>地理</th>\n",
       "      <th>歷史</th>\n",
       "    </tr>\n",
       "  </thead>\n",
       "  <tbody>\n",
       "    <tr>\n",
       "      <th>曾弘凌</th>\n",
       "      <td>74</td>\n",
       "      <td>75</td>\n",
       "      <td>89</td>\n",
       "      <td>73</td>\n",
       "      <td>65</td>\n",
       "    </tr>\n",
       "    <tr>\n",
       "      <th>張嘉音</th>\n",
       "      <td>91</td>\n",
       "      <td>95</td>\n",
       "      <td>62</td>\n",
       "      <td>83</td>\n",
       "      <td>61</td>\n",
       "    </tr>\n",
       "    <tr>\n",
       "      <th>姜奕君</th>\n",
       "      <td>64</td>\n",
       "      <td>91</td>\n",
       "      <td>58</td>\n",
       "      <td>67</td>\n",
       "      <td>64</td>\n",
       "    </tr>\n",
       "    <tr>\n",
       "      <th>劉怡如</th>\n",
       "      <td>94</td>\n",
       "      <td>75</td>\n",
       "      <td>76</td>\n",
       "      <td>72</td>\n",
       "      <td>54</td>\n",
       "    </tr>\n",
       "    <tr>\n",
       "      <th>洪明平</th>\n",
       "      <td>54</td>\n",
       "      <td>96</td>\n",
       "      <td>97</td>\n",
       "      <td>60</td>\n",
       "      <td>84</td>\n",
       "    </tr>\n",
       "  </tbody>\n",
       "</table>\n",
       "</div>"
      ],
      "text/plain": [
       "     國文  英文  數學  地理  歷史\n",
       "曾弘凌  74  75  89  73  65\n",
       "張嘉音  91  95  62  83  61\n",
       "姜奕君  64  91  58  67  64\n",
       "劉怡如  94  75  76  72  54\n",
       "洪明平  54  96  97  60  84"
      ]
     },
     "execution_count": 28,
     "metadata": {},
     "output_type": "execute_result"
    }
   ],
   "source": [
    "import numpy as np\n",
    "import pandas as pd\n",
    "\n",
    "n2 = np.random.randint(50,100,size=(5,5))\n",
    "dataFrame = pd.DataFrame(data=n2,\n",
    "            #index=names[:5],\n",
    "             index=getNames(5),\n",
    "             columns=[\"國文\",\"英文\",\"數學\",\"地理\",\"歷史\"]\n",
    "             )\n",
    "dataFrame"
   ]
  },
  {
   "cell_type": "code",
   "execution_count": 29,
   "metadata": {},
   "outputs": [
    {
     "data": {
      "text/html": [
       "<div>\n",
       "<style scoped>\n",
       "    .dataframe tbody tr th:only-of-type {\n",
       "        vertical-align: middle;\n",
       "    }\n",
       "\n",
       "    .dataframe tbody tr th {\n",
       "        vertical-align: top;\n",
       "    }\n",
       "\n",
       "    .dataframe thead th {\n",
       "        text-align: right;\n",
       "    }\n",
       "</style>\n",
       "<table border=\"1\" class=\"dataframe\">\n",
       "  <thead>\n",
       "    <tr style=\"text-align: right;\">\n",
       "      <th></th>\n",
       "      <th>國文</th>\n",
       "      <th>英文</th>\n",
       "      <th>數學</th>\n",
       "      <th>地理</th>\n",
       "      <th>歷史</th>\n",
       "      <th>總分</th>\n",
       "    </tr>\n",
       "  </thead>\n",
       "  <tbody>\n",
       "    <tr>\n",
       "      <th>曾弘凌</th>\n",
       "      <td>74</td>\n",
       "      <td>75</td>\n",
       "      <td>89</td>\n",
       "      <td>73</td>\n",
       "      <td>65</td>\n",
       "      <td>376</td>\n",
       "    </tr>\n",
       "    <tr>\n",
       "      <th>張嘉音</th>\n",
       "      <td>91</td>\n",
       "      <td>95</td>\n",
       "      <td>62</td>\n",
       "      <td>83</td>\n",
       "      <td>61</td>\n",
       "      <td>392</td>\n",
       "    </tr>\n",
       "    <tr>\n",
       "      <th>姜奕君</th>\n",
       "      <td>64</td>\n",
       "      <td>91</td>\n",
       "      <td>58</td>\n",
       "      <td>67</td>\n",
       "      <td>64</td>\n",
       "      <td>344</td>\n",
       "    </tr>\n",
       "    <tr>\n",
       "      <th>劉怡如</th>\n",
       "      <td>94</td>\n",
       "      <td>75</td>\n",
       "      <td>76</td>\n",
       "      <td>72</td>\n",
       "      <td>54</td>\n",
       "      <td>371</td>\n",
       "    </tr>\n",
       "    <tr>\n",
       "      <th>洪明平</th>\n",
       "      <td>54</td>\n",
       "      <td>96</td>\n",
       "      <td>97</td>\n",
       "      <td>60</td>\n",
       "      <td>84</td>\n",
       "      <td>391</td>\n",
       "    </tr>\n",
       "  </tbody>\n",
       "</table>\n",
       "</div>"
      ],
      "text/plain": [
       "     國文  英文  數學  地理  歷史   總分\n",
       "曾弘凌  74  75  89  73  65  376\n",
       "張嘉音  91  95  62  83  61  392\n",
       "姜奕君  64  91  58  67  64  344\n",
       "劉怡如  94  75  76  72  54  371\n",
       "洪明平  54  96  97  60  84  391"
      ]
     },
     "execution_count": 29,
     "metadata": {},
     "output_type": "execute_result"
    }
   ],
   "source": [
    "dataFrame[\"國文\"]\n",
    "dataFrame[[\"國文\",\"英文\"]]\n",
    "total = dataFrame[\"國文\"] + dataFrame[\"英文\"] + dataFrame[\"數學\"] + dataFrame[\"地理\"] + dataFrame[\"歷史\"]\n",
    "dataFrame[\"總分\"] = total \n",
    "dataFrame"
   ]
  },
  {
   "cell_type": "code",
   "execution_count": 30,
   "metadata": {},
   "outputs": [
    {
     "name": "stdout",
     "output_type": "stream",
     "text": [
      "<class 'str'>\n"
     ]
    },
    {
     "data": {
      "text/html": [
       "<div>\n",
       "<style scoped>\n",
       "    .dataframe tbody tr th:only-of-type {\n",
       "        vertical-align: middle;\n",
       "    }\n",
       "\n",
       "    .dataframe tbody tr th {\n",
       "        vertical-align: top;\n",
       "    }\n",
       "\n",
       "    .dataframe thead th {\n",
       "        text-align: right;\n",
       "    }\n",
       "</style>\n",
       "<table border=\"1\" class=\"dataframe\">\n",
       "  <thead>\n",
       "    <tr style=\"text-align: right;\">\n",
       "      <th></th>\n",
       "      <th>國文</th>\n",
       "      <th>英文</th>\n",
       "      <th>數學</th>\n",
       "      <th>地理</th>\n",
       "      <th>歷史</th>\n",
       "    </tr>\n",
       "  </thead>\n",
       "  <tbody>\n",
       "    <tr>\n",
       "      <th>1童欣怡</th>\n",
       "      <td>90</td>\n",
       "      <td>56</td>\n",
       "      <td>83</td>\n",
       "      <td>64</td>\n",
       "      <td>88</td>\n",
       "    </tr>\n",
       "    <tr>\n",
       "      <th>2郭盈君</th>\n",
       "      <td>70</td>\n",
       "      <td>92</td>\n",
       "      <td>92</td>\n",
       "      <td>92</td>\n",
       "      <td>62</td>\n",
       "    </tr>\n",
       "    <tr>\n",
       "      <th>3李儒琇</th>\n",
       "      <td>91</td>\n",
       "      <td>95</td>\n",
       "      <td>55</td>\n",
       "      <td>91</td>\n",
       "      <td>73</td>\n",
       "    </tr>\n",
       "    <tr>\n",
       "      <th>4劉喜城</th>\n",
       "      <td>66</td>\n",
       "      <td>55</td>\n",
       "      <td>80</td>\n",
       "      <td>60</td>\n",
       "      <td>51</td>\n",
       "    </tr>\n",
       "    <tr>\n",
       "      <th>5黃宜婷</th>\n",
       "      <td>68</td>\n",
       "      <td>73</td>\n",
       "      <td>52</td>\n",
       "      <td>76</td>\n",
       "      <td>85</td>\n",
       "    </tr>\n",
       "  </tbody>\n",
       "</table>\n",
       "</div>"
      ],
      "text/plain": [
       "      國文  英文  數學  地理  歷史\n",
       "1童欣怡  90  56  83  64  88\n",
       "2郭盈君  70  92  92  92  62\n",
       "3李儒琇  91  95  55  91  73\n",
       "4劉喜城  66  55  80  60  51\n",
       "5黃宜婷  68  73  52  76  85"
      ]
     },
     "execution_count": 30,
     "metadata": {},
     "output_type": "execute_result"
    }
   ],
   "source": [
    "import numpy as np\n",
    "import pandas as pd\n",
    "\n",
    "n2 = np.random.randint(50,100,size=(5,5))\n",
    "dataFrame = pd.DataFrame(data=n2,\n",
    "             index=[f\"{index+1}{name}\" for index,name in enumerate(getNames(5))],\n",
    "             columns=[\"國文\",\"英文\",\"數學\",\"地理\",\"歷史\"]\n",
    "             )\n",
    "dataFrame"
   ]
  }
 ],
 "metadata": {
  "kernelspec": {
   "display_name": "Python 3",
   "language": "python",
   "name": "python3"
  },
  "language_info": {
   "codemirror_mode": {
    "name": "ipython",
    "version": 3
   },
   "file_extension": ".py",
   "mimetype": "text/x-python",
   "name": "python",
   "nbconvert_exporter": "python",
   "pygments_lexer": "ipython3",
   "version": "3.10.12"
  },
  "orig_nbformat": 4
 },
 "nbformat": 4,
 "nbformat_minor": 2
}
