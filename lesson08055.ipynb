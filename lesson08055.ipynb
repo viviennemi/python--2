{
 "cells": [
  {
   "cell_type": "code",
   "execution_count": 3,
   "metadata": {},
   "outputs": [
    {
     "data": {
      "text/plain": [
       "學生1     362\n",
       "學生2     304\n",
       "學生3     343\n",
       "學生4     398\n",
       "學生5     334\n",
       "學生6     342\n",
       "學生7     390\n",
       "學生8     367\n",
       "學生9     399\n",
       "學生10    381\n",
       "dtype: int64"
      ]
     },
     "metadata": {},
     "output_type": "display_data"
    },
    {
     "data": {
      "text/plain": [
       "array([262, 204, 243, 298, 234, 242, 290, 267, 299, 281])"
      ]
     },
     "metadata": {},
     "output_type": "display_data"
    },
    {
     "data": {
      "text/plain": [
       "Index(['學生1', '學生2', '學生3', '學生4', '學生5', '學生6', '學生7', '學生8', '學生9', '學生10'], dtype='object')"
      ]
     },
     "metadata": {},
     "output_type": "display_data"
    }
   ],
   "source": [
    "import numpy as np\n",
    "import pandas as pd\n",
    "\n",
    "n1 = np.random.randint(200,300,size=(10,))\n",
    "s1 = pd.Series(data=n1,index=[f\"學生{i+1}\" for i in range(10)])\n",
    "display(s1+100)\n",
    "display(s1.values)\n",
    "display(s1.index)\n"
   ]
  },
  {
   "cell_type": "code",
   "execution_count": 4,
   "metadata": {},
   "outputs": [
    {
     "name": "stdout",
     "output_type": "stream",
     "text": [
      "林宜芬、王傑男、鄭馥伯、林雅綸、姜孟儒、李怡伶、洪家瑩、張杰威、陳雯軒、黃惠婷、許秀美、羅俊傑、曹淑敏、李舒涵、李家弘、歐舜汝、張世昌、駱國瑋、郭志偉、鄭淑芳、宋石育、楊克軒、黃雅惠、王柏南、錢哲銘、黃心珮、謝淑婷、陳郁蓮、傅筱倫、王志岳、吳思舜、王子雲、陳亭雯、毛語珍、賴嬌苓、陳珮珊、姚淑華、吳俊豪、劉怡茵、林怡婷、陳怡潔、曾志維、陳德行、張佩珊、賴淑惠、陳桂惟、盧美珠、丁美玲、張俊宏、張吉綺、江志鴻、楊阿堅、蔡承佳、駱彥廷、黃晉芃、王崇修、王冠屏、曹建緯、張仁綠、陳虹裕、王欣怡、仇剛琪、陳麗琪、郭友漢、張宗穎、王財映、張家英、林婉君、傅偉銘、張語忠、林信幸、陳雲正、曾世豪、陳偉樺、王思賢、賴筱雯、程珮菁、酆恩琪、張雅雯、陳冠達、黃玫修、吳孟修、林郁文、林璇蓁、蔡香君、林冠明、孫山信、王佳琪、李怡冰、張子勳、趙文瑞、林瑋坤、許伊婷、郭淑芬、張丹元、林雅婷、陳俊良、謝南旭、蔣心怡、吳禎茜\n"
     ]
    }
   ],
   "source": [
    "import requests\n",
    "import pandas as pd\n",
    "\n",
    "# 設定time為獲取中文姓名100筆的倍數。time=3，就是300筆的意思。\n",
    "times = 1\n",
    "cnames = []\n",
    "for x in range(times):\n",
    "    url = 'http://www.richyli.com/name/index.asp'\n",
    "    r = requests.get(url)\n",
    "    r.encoding = 'big5'\n",
    "    \n",
    "    # 將網頁中的資料以分行的方式存成文字檔\n",
    "    result = r.text.splitlines()\n",
    "    \n",
    "    # 114是中文姓名開始的列，找到最後一個「、」，設定成為字串的切片位置。\n",
    "    char_index = result[114].rfind(\"、\")\n",
    "    temp = result[114][:char_index]\n",
    "    \n",
    "    # 將temp的100筆姓名新增到cnames中\n",
    "    cnames.append(temp)\n",
    "\n",
    "# 將每100筆姓名的list加一個「、」，再組合成字串存到my_names中\n",
    "my_names = \"、\".join(str(x) for x in cnames)\n",
    "print(my_names)"
   ]
  },
  {
   "cell_type": "code",
   "execution_count": 6,
   "metadata": {},
   "outputs": [
    {
     "name": "stdout",
     "output_type": "stream",
     "text": [
      "<class 'str'>\n"
     ]
    },
    {
     "data": {
      "text/plain": [
       "['陳君聿', '林世映', '馮馨慧', '趙佳穎', '陳政誠']"
      ]
     },
     "execution_count": 6,
     "metadata": {},
     "output_type": "execute_result"
    }
   ],
   "source": [
    "#把別人的寫好的程式變成自己的function\n",
    "import requests\n",
    "def getNames(num):\n",
    "    times = 1\n",
    "    cnames = []\n",
    "    for x in range(times):\n",
    "        url = 'http://www.richyli.com/name/index.asp'\n",
    "        r = requests.get(url)\n",
    "        r.encoding = 'big5'\n",
    "        \n",
    "        # 將網頁中的資料以分行的方式存成文字檔\n",
    "        result = r.text.splitlines()\n",
    "        \n",
    "        # 114是中文姓名開始的列，找到最後一個「、」，設定成為字串的切片位置。\n",
    "        char_index = result[114].rfind(\"、\")\n",
    "        temp = result[114][:char_index]\n",
    "        \n",
    "        # 將temp的100筆姓名新增到cnames中\n",
    "        cnames.append(temp)\n",
    "    print(type(cnames[0]))\n",
    "    names = cnames[0].split('、')\n",
    "    return names[:num]\n",
    "\n",
    "#改寫成抓取一次變成100筆資料或是更多筆資料儲存\n",
    "# names = getNames(100)\n",
    "getNames(5)  "
   ]
  },
  {
   "cell_type": "code",
   "execution_count": 8,
   "metadata": {},
   "outputs": [
    {
     "name": "stdout",
     "output_type": "stream",
     "text": [
      "<class 'str'>\n"
     ]
    },
    {
     "data": {
      "text/html": [
       "<div>\n",
       "<style scoped>\n",
       "    .dataframe tbody tr th:only-of-type {\n",
       "        vertical-align: middle;\n",
       "    }\n",
       "\n",
       "    .dataframe tbody tr th {\n",
       "        vertical-align: top;\n",
       "    }\n",
       "\n",
       "    .dataframe thead th {\n",
       "        text-align: right;\n",
       "    }\n",
       "</style>\n",
       "<table border=\"1\" class=\"dataframe\">\n",
       "  <thead>\n",
       "    <tr style=\"text-align: right;\">\n",
       "      <th></th>\n",
       "      <th>國文</th>\n",
       "      <th>英文</th>\n",
       "      <th>數學</th>\n",
       "      <th>地理</th>\n",
       "      <th>歷史</th>\n",
       "    </tr>\n",
       "  </thead>\n",
       "  <tbody>\n",
       "    <tr>\n",
       "      <th>李佩君</th>\n",
       "      <td>56</td>\n",
       "      <td>79</td>\n",
       "      <td>63</td>\n",
       "      <td>77</td>\n",
       "      <td>90</td>\n",
       "    </tr>\n",
       "    <tr>\n",
       "      <th>王志宏</th>\n",
       "      <td>69</td>\n",
       "      <td>65</td>\n",
       "      <td>57</td>\n",
       "      <td>98</td>\n",
       "      <td>89</td>\n",
       "    </tr>\n",
       "    <tr>\n",
       "      <th>廖俊霖</th>\n",
       "      <td>72</td>\n",
       "      <td>73</td>\n",
       "      <td>66</td>\n",
       "      <td>92</td>\n",
       "      <td>77</td>\n",
       "    </tr>\n",
       "    <tr>\n",
       "      <th>吳亭君</th>\n",
       "      <td>95</td>\n",
       "      <td>89</td>\n",
       "      <td>88</td>\n",
       "      <td>83</td>\n",
       "      <td>83</td>\n",
       "    </tr>\n",
       "    <tr>\n",
       "      <th>陳俊宏</th>\n",
       "      <td>80</td>\n",
       "      <td>60</td>\n",
       "      <td>58</td>\n",
       "      <td>98</td>\n",
       "      <td>74</td>\n",
       "    </tr>\n",
       "  </tbody>\n",
       "</table>\n",
       "</div>"
      ],
      "text/plain": [
       "     國文  英文  數學  地理  歷史\n",
       "李佩君  56  79  63  77  90\n",
       "王志宏  69  65  57  98  89\n",
       "廖俊霖  72  73  66  92  77\n",
       "吳亭君  95  89  88  83  83\n",
       "陳俊宏  80  60  58  98  74"
      ]
     },
     "execution_count": 8,
     "metadata": {},
     "output_type": "execute_result"
    }
   ],
   "source": [
    "import numpy as np\n",
    "import pandas as pd\n",
    "\n",
    "n2 = np.random.randint(50,100,size=(5,5))\n",
    "dataFrame = pd.DataFrame(data=n2,\n",
    "            #index=names[:5],\n",
    "             index=getNames(5),\n",
    "             columns=[\"國文\",\"英文\",\"數學\",\"地理\",\"歷史\"]\n",
    "             )\n",
    "dataFrame"
   ]
  }
 ],
 "metadata": {
  "kernelspec": {
   "display_name": "Python 3",
   "language": "python",
   "name": "python3"
  },
  "language_info": {
   "codemirror_mode": {
    "name": "ipython",
    "version": 3
   },
   "file_extension": ".py",
   "mimetype": "text/x-python",
   "name": "python",
   "nbconvert_exporter": "python",
   "pygments_lexer": "ipython3",
   "version": "3.10.12"
  },
  "orig_nbformat": 4
 },
 "nbformat": 4,
 "nbformat_minor": 2
}
