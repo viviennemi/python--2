{
 "cells": [
  {
   "cell_type": "code",
   "execution_count": 1,
   "metadata": {},
   "outputs": [
    {
     "name": "stdout",
     "output_type": "stream",
     "text": [
      "h\n"
     ]
    }
   ],
   "source": [
    "print(\"h\")\n"
   ]
  },
  {
   "cell_type": "code",
   "execution_count": 2,
   "metadata": {},
   "outputs": [
    {
     "data": {
      "text/plain": [
       "955"
      ]
     },
     "execution_count": 2,
     "metadata": {},
     "output_type": "execute_result"
    }
   ],
   "source": [
    "a=955\n",
    "a"
   ]
  },
  {
   "cell_type": "code",
   "execution_count": 11,
   "metadata": {},
   "outputs": [
    {
     "name": "stdout",
     "output_type": "stream",
     "text": [
      "hjh:4000\n"
     ]
    }
   ],
   "source": [
    "a=int(input(\"213\"))\n",
    "is_add=input(\"(y,n)\")\n",
    "if is_add == \"y\":\n",
    "    a=a+a*1\n",
    "    if a>5000:\n",
    "        a=5000\n",
    "print(f\"hjh:{a}\")"
   ]
  },
  {
   "cell_type": "code",
   "execution_count": 39,
   "metadata": {},
   "outputs": [
    {
     "name": "stdout",
     "output_type": "stream",
     "text": [
      "BB\n"
     ]
    }
   ],
   "source": [
    "b=int(input(\"分數\"))\n",
    "if b<40:\n",
    "    print(\"NO\")\n",
    "else:\n",
    "    if b>=40 and b<70:\n",
    "        print(\"BB\")\n",
    "    if b>=70 and b<90:\n",
    "        print(\"B\")\n",
    "    if b>=90 and b<100:\n",
    "        print(\"A\")\n",
    "    if b>=100:\n",
    "        b=100\n",
    "        print(f\"滿分{b}\")"
   ]
  },
  {
   "cell_type": "code",
   "execution_count": 48,
   "metadata": {},
   "outputs": [
    {
     "name": "stdout",
     "output_type": "stream",
     "text": [
      "B\n"
     ]
    }
   ],
   "source": [
    "score=int(input(\"請輸入\"))\n",
    "if score >=90:\n",
    "    print(\"AA\")\n",
    "elif score >=80:\n",
    "    print(\"A\")\n",
    "elif score >=70:\n",
    "    print(\"BB\")\n",
    "elif score >=60:\n",
    "    print(\"B\")\n",
    "else:\n",
    "    print(\"C\")"
   ]
  },
  {
   "cell_type": "code",
   "execution_count": 54,
   "metadata": {},
   "outputs": [
    {
     "name": "stdout",
     "output_type": "stream",
     "text": [
      "C\n"
     ]
    }
   ],
   "source": [
    "A=70\n",
    "if not A==100:\n",
    "    print(\"C\")\n",
    "else:\n",
    "    print(\"A\")"
   ]
  },
  {
   "cell_type": "code",
   "execution_count": 61,
   "metadata": {},
   "outputs": [
    {
     "name": "stdout",
     "output_type": "stream",
     "text": [
      "NICE\n"
     ]
    }
   ],
   "source": [
    "A=70\n",
    "B=70\n",
    "if A==100 and B==100:\n",
    "    print(\"VERY GOOD\")\n",
    "elif A==100 or B==100:\n",
    "    print(\"Good\")\n",
    "else:\n",
    "    print(\"NICE\")"
   ]
  },
  {
   "cell_type": "code",
   "execution_count": 67,
   "metadata": {},
   "outputs": [
    {
     "name": "stdout",
     "output_type": "stream",
     "text": [
      "0\n",
      "1\n",
      "2\n",
      "3\n",
      "4\n",
      "2\n",
      "3\n",
      "4\n",
      "3\n",
      "5\n",
      "7\n"
     ]
    }
   ],
   "source": [
    "for i in range(5):\n",
    "    print(i)\n",
    "for j in range(2,5):\n",
    "    print(j)\n",
    "for k in range(3,8,2):\n",
    "    print(k)"
   ]
  },
  {
   "cell_type": "code",
   "execution_count": 70,
   "metadata": {},
   "outputs": [
    {
     "name": "stdout",
     "output_type": "stream",
     "text": [
      "625\n"
     ]
    }
   ],
   "source": [
    "net =0\n",
    "for i in range(1,50,2):\n",
    "    net=net+i\n",
    "print(f\"{net}\")"
   ]
  }
 ],
 "metadata": {
  "kernelspec": {
   "display_name": "Python 3 (ipykernel)",
   "language": "python",
   "name": "python3"
  },
  "language_info": {
   "codemirror_mode": {
    "name": "ipython",
    "version": 3
   },
   "file_extension": ".py",
   "mimetype": "text/x-python",
   "name": "python",
   "nbconvert_exporter": "python",
   "pygments_lexer": "ipython3",
   "version": "3.10.8"
  },
  "orig_nbformat": 4
 },
 "nbformat": 4,
 "nbformat_minor": 2
}
