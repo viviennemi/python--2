{
 "cells": [
  {
   "cell_type": "code",
   "execution_count": null,
   "metadata": {},
   "outputs": [],
   "source": [
    "import json\n",
    "with open('F-C0032-003.json',encoding='utf-8') as file:\n",
    "    json_str = file.read()\n",
    "    weather = json.loads(json_str)\n",
    "print(weather)"
   ]
  },
  {
   "cell_type": "code",
   "execution_count": null,
   "metadata": {},
   "outputs": [],
   "source": [
    "#需要搭配online jsonviewer來看出檔案結構並在python中叫出所要的資料\n",
    "location = weather['cwbopendata']['dataset']['location']\n",
    "for item in location:\n",
    "    print(item)"
   ]
  },
  {
   "cell_type": "code",
   "execution_count": null,
   "metadata": {},
   "outputs": [],
   "source": [
    "#需要搭配online jsonviewer來看出檔案結構並在python中叫出所要的資料\n",
    "A = weather['cwbopendata']['dataset']['location']\n",
    "#叫出資料前要先把資料弄成空的list-->[]\n",
    "choose_list = []\n",
    "for item in A:\n",
    "    #建立一個搜尋資料庫的部分是dict(dictionary)-->{}\n",
    "    CITY = {}\n",
    "    CITY['城市'] = item['locationName']\n",
    "    #append顯示\n",
    "    choose_list.append(CITY)\n",
    "choose_list\n",
    "    "
   ]
  },
  {
   "cell_type": "code",
   "execution_count": null,
   "metadata": {},
   "outputs": [],
   "source": [
    "A = weather['cwbopendata']['dataset']['location']\n",
    "choose_list = []\n",
    "for item in A:\n",
    "    CITY = {}\n",
    "    CITY['城市'] = item['locationName']\n",
    "    CITY['開始時間'] = item['weatherElement'][0]['time'][0]['startTime']\n",
    "    CITY['結束時間'] = item['weatherElement'][0]['time'][6]['endTime']\n",
    "    CITY['最高溫度'] = item['weatherElement'][1]['time'][0]['parameter']['parameterName']\n",
    "    CITY['最低溫度'] = item['weatherElement'][2]['time'][0]['parameter']['parameterName']\n",
    "    choose_list.append(CITY)\n",
    "choose_list\n",
    "    "
   ]
  }
 ],
 "metadata": {
  "kernelspec": {
   "display_name": "Python 3",
   "language": "python",
   "name": "python3"
  },
  "language_info": {
   "codemirror_mode": {
    "name": "ipython",
    "version": 3
   },
   "file_extension": ".py",
   "mimetype": "text/x-python",
   "name": "python",
   "nbconvert_exporter": "python",
   "pygments_lexer": "ipython3",
   "version": "3.10.8"
  },
  "orig_nbformat": 4
 },
 "nbformat": 4,
 "nbformat_minor": 2
}
