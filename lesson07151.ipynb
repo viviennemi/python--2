{
 "cells": [
  {
   "cell_type": "code",
   "execution_count": 22,
   "metadata": {},
   "outputs": [
    {
     "data": {
      "text/plain": [
       "90"
      ]
     },
     "execution_count": 22,
     "metadata": {},
     "output_type": "execute_result"
    }
   ],
   "source": [
    "import random\n",
    "random.randint(60,100)"
   ]
  },
  {
   "cell_type": "code",
   "execution_count": 24,
   "metadata": {},
   "outputs": [
    {
     "data": {
      "text/plain": [
       "[71, 82, 93, 85, 69]"
      ]
     },
     "execution_count": 24,
     "metadata": {},
     "output_type": "execute_result"
    }
   ],
   "source": [
    "stu1=list()\n",
    "for _ in range(5):\n",
    "    stu1.append(random.randint(60,100))\n",
    "stu1"
   ]
  },
  {
   "cell_type": "code",
   "execution_count": 26,
   "metadata": {},
   "outputs": [
    {
     "data": {
      "text/plain": [
       "[[72, 82, 85, 90, 100],\n",
       " [65, 92, 61, 94, 84],\n",
       " [73, 82, 96, 90, 90],\n",
       " [90, 79, 99, 66, 64],\n",
       " [72, 89, 74, 72, 64],\n",
       " [66, 65, 65, 84, 61],\n",
       " [82, 72, 84, 84, 66],\n",
       " [74, 100, 94, 80, 65],\n",
       " [89, 67, 74, 88, 90],\n",
       " [89, 79, 66, 64, 91],\n",
       " [65, 91, 91, 88, 63],\n",
       " [80, 62, 80, 74, 83],\n",
       " [65, 91, 90, 76, 97],\n",
       " [80, 75, 62, 82, 91],\n",
       " [69, 62, 79, 73, 68],\n",
       " [60, 60, 89, 77, 92],\n",
       " [75, 63, 73, 76, 78],\n",
       " [100, 99, 64, 83, 61],\n",
       " [76, 89, 92, 65, 81],\n",
       " [75, 89, 79, 93, 87],\n",
       " [97, 68, 99, 73, 86],\n",
       " [80, 70, 61, 81, 94],\n",
       " [93, 61, 66, 75, 83],\n",
       " [67, 73, 71, 92, 74],\n",
       " [77, 85, 66, 68, 82],\n",
       " [65, 83, 66, 82, 91],\n",
       " [89, 86, 93, 94, 79],\n",
       " [84, 80, 89, 93, 81],\n",
       " [82, 76, 86, 87, 79],\n",
       " [79, 99, 60, 90, 73],\n",
       " [93, 77, 74, 66, 79],\n",
       " [90, 95, 83, 100, 66],\n",
       " [71, 83, 70, 70, 92],\n",
       " [93, 80, 73, 96, 83],\n",
       " [81, 89, 82, 95, 84],\n",
       " [82, 93, 65, 67, 98],\n",
       " [79, 86, 79, 64, 82],\n",
       " [82, 76, 79, 76, 66],\n",
       " [72, 74, 100, 98, 96],\n",
       " [76, 72, 96, 77, 86],\n",
       " [95, 79, 69, 62, 75],\n",
       " [89, 100, 82, 71, 88],\n",
       " [96, 84, 75, 60, 73],\n",
       " [72, 80, 91, 99, 82],\n",
       " [63, 72, 73, 93, 84],\n",
       " [66, 72, 62, 89, 67],\n",
       " [87, 90, 73, 81, 89],\n",
       " [87, 93, 87, 100, 77],\n",
       " [66, 60, 93, 67, 73],\n",
       " [77, 72, 97, 94, 65]]"
      ]
     },
     "execution_count": 26,
     "metadata": {},
     "output_type": "execute_result"
    }
   ],
   "source": [
    "students = []\n",
    "for _ in range(50):\n",
    "    stu = list()\n",
    "    for _ in range(5):\n",
    "        stu.append(random.randint(60,100))\n",
    "    students.append(stu)\n",
    "students"
   ]
  },
  {
   "cell_type": "code",
   "execution_count": 4,
   "metadata": {},
   "outputs": [],
   "source": [
    "#'''代表中間的文字是可以換行的'''\n",
    "text = '''python與中文\n",
    "1. 我們來試試看中文儲存能力。\n",
    "2. 許這個字會有編碼衝突風險。\n",
    "3. 犇這個字必須是utf8編碼才有。'''\n",
    "\n",
    "#file是一個物件(可以替換成A)，但在print中,之後的file是一個指令\n",
    "file = open('hello.txt',mode='w')\n",
    "print(text,file=file)\n",
    "file.close()"
   ]
  },
  {
   "cell_type": "code",
   "execution_count": 7,
   "metadata": {},
   "outputs": [],
   "source": [
    "content = '''標題說明\n",
    "1. 可以自行做文字排列。\n",
    "2. 將文字做條列式處理。\n",
    "3. 可以按照想輸入的內容作調整。\n",
    "4. 重新執行舊的資料就會被蓋掉了'''\n",
    "\n",
    "\n",
    "name = open('phythonprint.txt',mode='w')\n",
    "print(content,file=name)\n",
    "name.close()"
   ]
  },
  {
   "cell_type": "code",
   "execution_count": 12,
   "metadata": {},
   "outputs": [],
   "source": [
    "#write的部分可以取代print作為文字輸出的部分，通常程式中比較多用write當作輸出工具\n",
    "A = open('hello1.txt',mode='w',encoding=\"utf-8\")\n",
    "A.write(\"這是第一行\\n\")\n",
    "A.write(\"這是第二行\\n\")\n",
    "A.writelines(\"\"\"這是第三行\n",
    "這是第四行\n",
    "這是第五行\"\"\")\n",
    "A.close()"
   ]
  },
  {
   "cell_type": "code",
   "execution_count": 14,
   "metadata": {},
   "outputs": [
    {
     "data": {
      "text/plain": [
       "'這是第一行\\n這是第二行\\n這是第三行\\n這是第四行\\n這是第五行'"
      ]
     },
     "execution_count": 14,
     "metadata": {},
     "output_type": "execute_result"
    }
   ],
   "source": [
    "file = open('hello1.txt',mode='r',encoding=\"utf-8\")\n",
    "all_text = file.read()\n",
    "all_text"
   ]
  },
  {
   "cell_type": "code",
   "execution_count": 15,
   "metadata": {},
   "outputs": [
    {
     "name": "stdout",
     "output_type": "stream",
     "text": [
      "這是第一行\n",
      "這是第二行\n",
      "這是第三行\n",
      "這是第四行\n",
      "這是第五行\n"
     ]
    }
   ],
   "source": [
    "#print會執行函數中的呈現方式變成容易閱讀的方式，但不利於程式鑽寫\n",
    "file = open('hello1.txt',mode='r',encoding=\"utf-8\")\n",
    "all_text = file.read()\n",
    "print(all_text)"
   ]
  }
 ],
 "metadata": {
  "kernelspec": {
   "display_name": "Python 3",
   "language": "python",
   "name": "python3"
  },
  "language_info": {
   "codemirror_mode": {
    "name": "ipython",
    "version": 3
   },
   "file_extension": ".py",
   "mimetype": "text/x-python",
   "name": "python",
   "nbconvert_exporter": "python",
   "pygments_lexer": "ipython3",
   "version": "3.10.8"
  },
  "orig_nbformat": 4
 },
 "nbformat": 4,
 "nbformat_minor": 2
}
