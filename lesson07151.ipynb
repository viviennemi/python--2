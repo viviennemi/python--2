{
 "cells": [
  {
   "cell_type": "code",
   "execution_count": 22,
   "metadata": {},
   "outputs": [
    {
     "data": {
      "text/plain": [
       "90"
      ]
     },
     "execution_count": 22,
     "metadata": {},
     "output_type": "execute_result"
    }
   ],
   "source": [
    "import random\n",
    "random.randint(60,100)"
   ]
  },
  {
   "cell_type": "code",
   "execution_count": 24,
   "metadata": {},
   "outputs": [
    {
     "data": {
      "text/plain": [
       "[71, 82, 93, 85, 69]"
      ]
     },
     "execution_count": 24,
     "metadata": {},
     "output_type": "execute_result"
    }
   ],
   "source": [
    "stu1=list()\n",
    "for _ in range(5):\n",
    "    stu1.append(random.randint(60,100))\n",
    "stu1"
   ]
  },
  {
   "cell_type": "code",
   "execution_count": 25,
   "metadata": {},
   "outputs": [
    {
     "data": {
      "text/plain": [
       "[[80, 71, 98, 71, 78],\n",
       " [100, 91, 70, 78, 77],\n",
       " [87, 93, 85, 68, 84],\n",
       " [61, 75, 78, 87, 63],\n",
       " [88, 62, 91, 83, 69],\n",
       " [100, 78, 98, 62, 82],\n",
       " [60, 80, 76, 84, 86],\n",
       " [64, 75, 75, 80, 75],\n",
       " [91, 86, 60, 98, 82],\n",
       " [83, 80, 69, 62, 78],\n",
       " [83, 73, 85, 64, 72],\n",
       " [64, 93, 75, 99, 68],\n",
       " [60, 92, 98, 78, 90],\n",
       " [88, 94, 92, 96, 66],\n",
       " [66, 89, 60, 79, 83],\n",
       " [63, 60, 77, 91, 85],\n",
       " [96, 63, 96, 95, 99],\n",
       " [94, 61, 89, 67, 63],\n",
       " [71, 99, 84, 66, 92],\n",
       " [81, 66, 85, 94, 70],\n",
       " [69, 95, 76, 63, 90],\n",
       " [85, 83, 86, 67, 82],\n",
       " [72, 98, 99, 63, 91],\n",
       " [88, 72, 94, 93, 64],\n",
       " [62, 62, 94, 80, 67],\n",
       " [63, 73, 77, 75, 97],\n",
       " [99, 72, 63, 98, 67],\n",
       " [86, 64, 93, 66, 67],\n",
       " [98, 99, 92, 75, 61],\n",
       " [82, 65, 92, 99, 71],\n",
       " [73, 65, 83, 79, 99],\n",
       " [62, 65, 80, 97, 92],\n",
       " [87, 96, 68, 81, 98],\n",
       " [80, 96, 81, 73, 69],\n",
       " [72, 82, 84, 86, 89],\n",
       " [79, 65, 83, 70, 89],\n",
       " [68, 90, 93, 89, 77],\n",
       " [75, 98, 85, 91, 70],\n",
       " [96, 83, 99, 85, 89],\n",
       " [78, 94, 81, 64, 90],\n",
       " [67, 82, 74, 84, 62],\n",
       " [84, 85, 74, 84, 61],\n",
       " [76, 67, 61, 63, 80],\n",
       " [60, 70, 72, 62, 79],\n",
       " [66, 73, 93, 67, 98],\n",
       " [72, 90, 66, 64, 81],\n",
       " [98, 74, 97, 80, 66],\n",
       " [61, 67, 79, 65, 82],\n",
       " [86, 62, 67, 67, 90],\n",
       " [99, 71, 89, 60, 78]]"
      ]
     },
     "execution_count": 25,
     "metadata": {},
     "output_type": "execute_result"
    }
   ],
   "source": [
    "students = []\n",
    "for _ in range(50):\n",
    "    stu = list()\n",
    "    for _ in range(5):\n",
    "        stu.append(random.randint(60,100))\n",
    "    students.append(stu)\n",
    "students"
   ]
  }
 ],
 "metadata": {
  "kernelspec": {
   "display_name": "Python 3",
   "language": "python",
   "name": "python3"
  },
  "language_info": {
   "codemirror_mode": {
    "name": "ipython",
    "version": 3
   },
   "file_extension": ".py",
   "mimetype": "text/x-python",
   "name": "python",
   "nbconvert_exporter": "python",
   "pygments_lexer": "ipython3",
   "version": "3.10.8"
  },
  "orig_nbformat": 4
 },
 "nbformat": 4,
 "nbformat_minor": 2
}
