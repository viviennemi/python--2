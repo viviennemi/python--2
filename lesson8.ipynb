{
 "cells": [
  {
   "cell_type": "code",
   "execution_count": 29,
   "metadata": {},
   "outputs": [
    {
     "name": "stdout",
     "output_type": "stream",
     "text": [
      "i=0\n",
      "j=0\n",
      "j=1\n",
      "+++\n",
      "i=1\n",
      "j=0\n",
      "j=1\n",
      "+++\n"
     ]
    }
   ],
   "source": [
    "for i in range(2):\n",
    "    print(f\"i={i}\")\n",
    "    for j in range(2):\n",
    "        print(f\"j={j}\")\n",
    "    print(\"+++\")"
   ]
  },
  {
   "cell_type": "code",
   "execution_count": 30,
   "metadata": {},
   "outputs": [
    {
     "name": "stdout",
     "output_type": "stream",
     "text": [
      "i=0\n",
      "j\\n=0 j\\n=1 \n",
      "+++\n",
      "i=1\n",
      "j\\n=0 j\\n=1 \n",
      "+++\n"
     ]
    }
   ],
   "source": [
    "for i in range(2):\n",
    "    print(f\"i={i}\")\n",
    "    for j in range(2):\n",
    "        print(f\"j\\\\n={j}\",end=\" \")\n",
    "    print(\"\\n+++\") \n",
    "    ##\\n屬於字串符號的一個指令\n",
    "    ##若是單純想要出現\\n的話就是再加\\"
   ]
  },
  {
   "cell_type": "code",
   "execution_count": 31,
   "metadata": {},
   "outputs": [
    {
     "name": "stdout",
     "output_type": "stream",
     "text": [
      "1*1=1 1*2=2 \n",
      "\n",
      "2*1=2 2*2=4 \n",
      "\n"
     ]
    }
   ],
   "source": [
    "for i in range(1,3):\n",
    "    for j in range(1,3):\n",
    "        print(f\"{i}*{j}={i*j}\",end=\" \")\n",
    "    print(\"\\n\")"
   ]
  },
  {
   "cell_type": "code",
   "execution_count": 34,
   "metadata": {},
   "outputs": [
    {
     "name": "stdout",
     "output_type": "stream",
     "text": [
      "已經存了4個月,共存2200元\n"
     ]
    }
   ],
   "source": [
    "#想存2000元，每個月要存錢，當存夠時提示\n",
    "deposit = 0\n",
    "months = 0\n",
    "while(deposit<2000):\n",
    "    months += 1\n",
    "    value = int(input(f\"請輸入第{months}月的存款\"))\n",
    "    deposit += value\n",
    "print(f\"已經存了{months}個月,共存{deposit}元\")"
   ]
  }
 ],
 "metadata": {
  "kernelspec": {
   "display_name": "Python 3",
   "language": "python",
   "name": "python3"
  },
  "language_info": {
   "codemirror_mode": {
    "name": "ipython",
    "version": 3
   },
   "file_extension": ".py",
   "mimetype": "text/x-python",
   "name": "python",
   "nbconvert_exporter": "python",
   "pygments_lexer": "ipython3",
   "version": "3.10.8"
  },
  "orig_nbformat": 4
 },
 "nbformat": 4,
 "nbformat_minor": 2
}
