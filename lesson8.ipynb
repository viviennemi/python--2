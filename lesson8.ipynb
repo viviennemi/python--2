{
 "cells": [
  {
   "cell_type": "code",
   "execution_count": 29,
   "metadata": {},
   "outputs": [
    {
     "name": "stdout",
     "output_type": "stream",
     "text": [
      "i=0\n",
      "j=0\n",
      "j=1\n",
      "+++\n",
      "i=1\n",
      "j=0\n",
      "j=1\n",
      "+++\n"
     ]
    }
   ],
   "source": [
    "for i in range(2):\n",
    "    print(f\"i={i}\")\n",
    "    for j in range(2):\n",
    "        print(f\"j={j}\")\n",
    "    print(\"+++\")"
   ]
  },
  {
   "cell_type": "code",
   "execution_count": 30,
   "metadata": {},
   "outputs": [
    {
     "name": "stdout",
     "output_type": "stream",
     "text": [
      "i=0\n",
      "j\\n=0 j\\n=1 \n",
      "+++\n",
      "i=1\n",
      "j\\n=0 j\\n=1 \n",
      "+++\n"
     ]
    }
   ],
   "source": [
    "for i in range(2):\n",
    "    print(f\"i={i}\")\n",
    "    for j in range(2):\n",
    "        print(f\"j\\\\n={j}\",end=\" \")\n",
    "    print(\"\\n+++\") \n",
    "    ##\\n屬於字串符號的一個指令\n",
    "    ##若是單純想要出現\\n的話就是再加\\"
   ]
  },
  {
   "cell_type": "code",
   "execution_count": 31,
   "metadata": {},
   "outputs": [
    {
     "name": "stdout",
     "output_type": "stream",
     "text": [
      "1*1=1 1*2=2 \n",
      "\n",
      "2*1=2 2*2=4 \n",
      "\n"
     ]
    }
   ],
   "source": [
    "for i in range(1,3):\n",
    "    for j in range(1,3):\n",
    "        print(f\"{i}*{j}={i*j}\",end=\" \")\n",
    "    print(\"\\n\")"
   ]
  },
  {
   "cell_type": "code",
   "execution_count": 34,
   "metadata": {},
   "outputs": [
    {
     "name": "stdout",
     "output_type": "stream",
     "text": [
      "已經存了4個月,共存2200元\n"
     ]
    }
   ],
   "source": [
    "#想存2000元，每個月要存錢，當存夠時提示\n",
    "deposit = 0\n",
    "months = 0\n",
    "while(deposit<2000):\n",
    "    months += 1\n",
    "    value = int(input(f\"請輸入第{months}月的存款\"))\n",
    "    deposit += value\n",
    "print(f\"已經存了{months}個月,共存{deposit}元\")"
   ]
  },
  {
   "cell_type": "code",
   "execution_count": 5,
   "metadata": {},
   "outputs": [
    {
     "name": "stdout",
     "output_type": "stream",
     "text": [
      "輸入的偶數加總為14\n"
     ]
    }
   ],
   "source": [
    "#設計使用者輸入數值，只加總正偶數，不加正奇數，輸入負值，結束程式。\n",
    "sum=0\n",
    "num=0\n",
    "while True:\n",
    "    num+=1\n",
    "    input_value =int(input(f\"請輸入第{num}數值\"))\n",
    "    if input_value <0:\n",
    "        break\n",
    "    elif input_value % 2 == 1:\n",
    "        continue\n",
    "    else:\n",
    "        sum+= input_value\n",
    "print(f'輸入的偶數加總為{sum}')\n"
   ]
  },
  {
   "cell_type": "code",
   "execution_count": 32,
   "metadata": {},
   "outputs": [
    {
     "data": {
      "text/plain": [
       "2"
      ]
     },
     "execution_count": 32,
     "metadata": {},
     "output_type": "execute_result"
    }
   ],
   "source": [
    "#亂數\n",
    "import random\n",
    "random.randrange(5)\n",
    "random.randint(1,5)"
   ]
  }
 ],
 "metadata": {
  "kernelspec": {
   "display_name": "Python 3",
   "language": "python",
   "name": "python3"
  },
  "language_info": {
   "codemirror_mode": {
    "name": "ipython",
    "version": 3
   },
   "file_extension": ".py",
   "mimetype": "text/x-python",
   "name": "python",
   "nbconvert_exporter": "python",
   "pygments_lexer": "ipython3",
   "version": "3.10.8"
  },
  "orig_nbformat": 4
 },
 "nbformat": 4,
 "nbformat_minor": 2
}
