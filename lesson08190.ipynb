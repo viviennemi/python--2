import ffn
prices = ffn.get('aapl,msft', start='2010-01-01')
prices
