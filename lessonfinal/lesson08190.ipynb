{
 "cells": [
  {
   "cell_type": "code",
   "execution_count": null,
   "metadata": {},
   "outputs": [],
   "source": [
    "import ffn\n",
    "prices = ffn.get('2330.TW,2303.TW', start='2010-01-01')\n",
    "prices"
   ]
  },
  {
   "cell_type": "code",
   "execution_count": null,
   "metadata": {},
   "outputs": [],
   "source": [
    "ax = prices.rebase().plot(figsize=(10, 5))"
   ]
  },
  {
   "cell_type": "code",
   "execution_count": null,
   "metadata": {},
   "outputs": [],
   "source": [
    "import csv\n",
    "import pandas as pd\n",
    "def getStockNames() -> pd.Series:\n",
    "    with open('codeSearch.csv',encoding='utf-8',newline='') as file:\n",
    "        next(file)\n",
    "        csv_reader = csv.reader(file)\n",
    "        stock_codes = {}\n",
    "        for item in csv_reader:\n",
    "            key  =  item[2]\n",
    "            stock_codes[key] = item[3]\n",
    "        \n",
    "    code_series:pd.Series = pd.Series(stock_codes)\n",
    "    return code_series\n",
    "\n",
    "getStockNames()"
   ]
  }
 ],
 "metadata": {
  "language_info": {
   "name": "python"
  },
  "orig_nbformat": 4
 },
 "nbformat": 4,
 "nbformat_minor": 2
}
